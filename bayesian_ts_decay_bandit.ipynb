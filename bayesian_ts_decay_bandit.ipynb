{
 "cells": [
  {
   "cell_type": "code",
   "execution_count": 7,
   "metadata": {},
   "outputs": [
    {
     "name": "stdout",
     "output_type": "stream",
     "text": [
      "Overwriting bayesian_ts_bandit_decay.py\n"
     ]
    }
   ],
   "source": [
    "%%writefile bayesian_ts_bandit_decay.py\n",
    "import json\n",
    "import numpy as np\n",
    "import pandas as pd\n",
    "\n",
    "bandit_state = None\n",
    "total_reward = 0\n",
    "last_step_bandit = None\n",
    "opponent_last = None\n",
    "\n",
    "def bayesian_ts_decay_bandit(observation, configuration):\n",
    "    global bandit_state,total_reward,last_step_bandit, opponent_last\n",
    "\n",
    "    if observation.step%100 == 0:\n",
    "       # print(f\"Observations {observation}\")\n",
    "       print(f\"Bayesian TS decay bandit {total_reward}\")\n",
    "        \n",
    "    #if observation.step%1000 == 0:\n",
    "    #    print(f\"Bandit state {bandit_state}\")\n",
    "        \n",
    "    if observation.step == 0:\n",
    "        # initial bandit state\n",
    "        bandit_state = [[1,1] for i in range(100)]\n",
    "    else:       \n",
    "        reward = observation.reward - total_reward\n",
    "        total_reward += reward\n",
    "        \n",
    "        # updating bandit_state using the result of the previous step       \n",
    "        if reward > 0:\n",
    "            # If winner increase the wins for that particular bandit\n",
    "            bandit_state[last_step_bandit][0] += reward * 0.97\n",
    "        \n",
    "        # Increase the trials - wins for that particular bandit\n",
    "        bandit_state[last_step_bandit][1] += 1 - reward\n",
    "\n",
    "        opponent_current = observation.lastActions[1]\n",
    "        if opponent_last:\n",
    "            if opponent_last == opponent_current:\n",
    "                assume_reward = 1 # If opponent repeated perhaps the last time was a win, update alpha\n",
    "                bandit_state[opponent_last][0] += assume_reward *.97\n",
    "            else:\n",
    "                # If opponent did not repeat opponent last was a defeat, update beta\n",
    "                bandit_state[opponent_last][1] += 1\n",
    "            \n",
    "        opponent_last = opponent_current \n",
    "    #generate random number from Beta distribution for each agent and select the most lucky one\n",
    "    #best_agent = np.argmax(np.random.beta(bandit_state[0], bandit_state[1])).item()\n",
    "\n",
    "    best_proba = -1\n",
    "    best_agent = None\n",
    "    for k in range(100):\n",
    "        proba = np.random.beta(bandit_state[k][0],bandit_state[k][1])\n",
    "        if proba > best_proba:\n",
    "            best_proba = proba\n",
    "            best_agent = k\n",
    "\n",
    "    last_step_bandit = best_agent\n",
    "    return best_agent"
   ]
  },
  {
   "cell_type": "code",
   "execution_count": null,
   "metadata": {},
   "outputs": [],
   "source": []
  },
  {
   "cell_type": "code",
   "execution_count": null,
   "metadata": {},
   "outputs": [],
   "source": []
  }
 ],
 "metadata": {
  "kernelspec": {
   "display_name": "Python 3",
   "language": "python",
   "name": "python3"
  },
  "language_info": {
   "codemirror_mode": {
    "name": "ipython",
    "version": 3
   },
   "file_extension": ".py",
   "mimetype": "text/x-python",
   "name": "python",
   "nbconvert_exporter": "python",
   "pygments_lexer": "ipython3",
   "version": "3.8.5"
  }
 },
 "nbformat": 4,
 "nbformat_minor": 4
}
