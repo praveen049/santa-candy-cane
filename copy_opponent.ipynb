{
 "cells": [
  {
   "cell_type": "code",
   "execution_count": 10,
   "metadata": {},
   "outputs": [
    {
     "name": "stdout",
     "output_type": "stream",
     "text": [
      "Overwriting copy_opponent.py\n"
     ]
    }
   ],
   "source": [
    "%%writefile copy_opponent.py\n",
    "import random\n",
    "\n",
    "last_bandit = -1\n",
    "total_reward = 0\n",
    "def agent(observation, configuration):\n",
    "    global last_bandit, total_reward\n",
    "    \n",
    "    bandit = None\n",
    "    #if observation.step%100 == 0:\n",
    "    #    print(f\"Copy opponent {total_reward}\")\n",
    "        \n",
    "    if last_bandit > -1:\n",
    "        reward = observation.reward - total_reward\n",
    "        if reward == 1:\n",
    "            total_reward += reward\n",
    "        bandit = observation.lastActions[1]\n",
    "\n",
    "    if bandit is None:\n",
    "        bandit = random.randint(0, 99)\n",
    "        \n",
    "    last_bandit = bandit\n",
    "        \n",
    "    return bandit"
   ]
  },
  {
   "cell_type": "code",
   "execution_count": null,
   "metadata": {},
   "outputs": [],
   "source": []
  }
 ],
 "metadata": {
  "kernelspec": {
   "display_name": "Python 3",
   "language": "python",
   "name": "python3"
  },
  "language_info": {
   "codemirror_mode": {
    "name": "ipython",
    "version": 3
   },
   "file_extension": ".py",
   "mimetype": "text/x-python",
   "name": "python",
   "nbconvert_exporter": "python",
   "pygments_lexer": "ipython3",
   "version": "3.8.5"
  }
 },
 "nbformat": 4,
 "nbformat_minor": 4
}
