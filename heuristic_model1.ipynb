{
 "cells": [
  {
   "cell_type": "code",
   "execution_count": 98,
   "metadata": {},
   "outputs": [
    {
     "name": "stdout",
     "output_type": "stream",
     "text": [
      "Overwriting ./py-files/beta_and_heuristic.py\n"
     ]
    }
   ],
   "source": [
    "%%writefile \"./py-files/beta_and_heuristic.py\"\n",
    "import json\n",
    "import numpy as np\n",
    "import pandas as pd\n",
    "import random\n",
    "\n",
    "bandit_state = None\n",
    "total_reward = 0\n",
    "self_last = None\n",
    "opponent_last = None\n",
    "self_bandits = []\n",
    "opponent_bandits = []\n",
    "last_step_bandit = None\n",
    "    \n",
    "def beta_and_heuristic(observation, configuration):\n",
    "    global bandit_state,total_reward,last_step_bandit, opponent_last, opponent_bandits, self_bandits\n",
    "\n",
    "    from itertools import islice\n",
    "\n",
    "    def take(n, iterable):\n",
    "        \"Return first n items of the iterable as a list\"\n",
    "        sli = islice(iterable, n)\n",
    "        lis = list(islice(iterable, n))\n",
    "\n",
    "        return lis\n",
    "    \n",
    "    if observation.step == 1990:\n",
    "        #print(f\"Observations {observation}\")\n",
    "        print(f\"beta_and_heuristic {total_reward}\")\n",
    "       \n",
    "    if observation.step == 0:\n",
    "        # initial bandit state\n",
    "        bandit_state = [[1,1] for i in range(100)]\n",
    "\n",
    "    else:\n",
    "        self_current = observation.lastActions[0]\n",
    "        self_bandits.append(last_step_bandit)\n",
    "        reward = observation.reward - total_reward\n",
    "        total_reward += reward\n",
    "\n",
    "        # updating bandit_state using the result of the previous step       \n",
    "        if reward > 0:\n",
    "            # If winner increase the wins (alpha) for that particular bandit\n",
    "            bandit_state[last_step_bandit][0] += reward * 2\n",
    "\n",
    "        opponent_current = observation.lastActions[1]\n",
    "        opponent_bandits.append(opponent_current)\n",
    "        \n",
    "        if observation.step%500 == 0:\n",
    "            # Increase the trials - wins for opponent bandiot\n",
    "            opponent_dict = {x:opponent_bandits.count(x) for x in opponent_bandits}\n",
    "            oppo_sorted_combi = dict(sorted(opponent_dict.items(), key=lambda item: item[1], reverse=True))\n",
    "            opp_top_tuples = take(10, oppo_sorted_combi.items())\n",
    "\n",
    "            for each_top in opp_top_tuples:\n",
    "                oppo_top_bandit = each_top[0]\n",
    "                oppo_top_hits = each_top[1]\n",
    "                #bandit_state[oppo_top_bandit][0] += (1 * oppo_top_hits)\n",
    "            \n",
    "    best_proba = -1\n",
    "    best_agent = None\n",
    "    for k in range(100):\n",
    "        proba = np.random.beta(bandit_state[k][0],bandit_state[k][1])\n",
    "        if proba > best_proba:\n",
    "            best_proba = proba\n",
    "            best_agent = k\n",
    "            \n",
    "\n",
    "    last_step_bandit = best_agent\n",
    "\n",
    "        \n",
    "    return best_agent"
   ]
  },
  {
   "cell_type": "code",
   "execution_count": null,
   "metadata": {},
   "outputs": [],
   "source": []
  }
 ],
 "metadata": {
  "kernelspec": {
   "display_name": "Python 3",
   "language": "python",
   "name": "python3"
  },
  "language_info": {
   "codemirror_mode": {
    "name": "ipython",
    "version": 3
   },
   "file_extension": ".py",
   "mimetype": "text/x-python",
   "name": "python",
   "nbconvert_exporter": "python",
   "pygments_lexer": "ipython3",
   "version": "3.8.5"
  }
 },
 "nbformat": 4,
 "nbformat_minor": 4
}
