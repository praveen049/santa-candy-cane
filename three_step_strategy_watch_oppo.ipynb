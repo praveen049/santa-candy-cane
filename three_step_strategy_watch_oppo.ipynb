{
 "cells": [
  {
   "cell_type": "code",
   "execution_count": 5,
   "metadata": {},
   "outputs": [
    {
     "name": "stdout",
     "output_type": "stream",
     "text": [
      "Overwriting ./py-files/bayesian_ts_watch_opponent_stick_with_winner_watch_oppo.py\n"
     ]
    }
   ],
   "source": [
    "%%writefile \"./py-files/bayesian_ts_watch_opponent_stick_with_winner_watch_oppo.py\"\n",
    "import json\n",
    "import numpy as np\n",
    "import pandas as pd\n",
    "\n",
    "bandit_state = None \n",
    "total_reward = 0\n",
    "last_step_bandit = None\n",
    "opponent_last = None\n",
    "    \n",
    "def bayesian_ts_bandit(observation, configuration):\n",
    "    global bandit_state,total_reward,last_step_bandit, opponent_last\n",
    "    best_agent = None\n",
    "    if observation.step%100 == 0:\n",
    "        #print(f\"Observations {observation}\")\n",
    "        print(f\"3 step strategy watch oppo {total_reward}\")\n",
    "        \n",
    "    if observation.step == 0:\n",
    "        # initial bandit state\n",
    "        bandit_state = [[1,1] for i in range(100)]\n",
    "    else:       \n",
    "        reward = observation.reward - total_reward\n",
    "        total_reward += reward\n",
    "        opponent_current = observation.lastActions[1]\n",
    "        # updating bandit_state using the result of the previous step       \n",
    "        if reward > 0:\n",
    "            # If winner increase the wins for that particular bandit\n",
    "            bandit_state[last_step_bandit][0] += reward \n",
    "            best_agent = last_step_bandit\n",
    "        \n",
    "        # Increase the trials - wins for that particular bandit\n",
    "        #bandit_state[last_step_bandit][1] += 1 - reward\n",
    "        else:\n",
    "            opponent_current = observation.lastActions[1]\n",
    "            if opponent_last:\n",
    "                if opponent_last == opponent_current:\n",
    "                    bandit_state[opponent_last][0] += 1\n",
    "                    best_agent = opponent_last\n",
    "                else:\n",
    "                    bandit_state[opponent_last][1] += 1\n",
    "\n",
    "        opponent_last = opponent_current  \n",
    "        bandit_state[last_step_bandit][1] += 1 - reward\n",
    "        \n",
    "    best_proba = -1\n",
    "    if best_agent is None:\n",
    "        for k in range(100):\n",
    "            proba = np.random.beta(bandit_state[k][0],bandit_state[k][1])\n",
    "            if proba > best_proba:\n",
    "                best_proba = proba\n",
    "                best_agent = k\n",
    "\n",
    "    last_step_bandit = best_agent\n",
    "\n",
    "    return best_agent"
   ]
  },
  {
   "cell_type": "code",
   "execution_count": null,
   "metadata": {},
   "outputs": [],
   "source": []
  }
 ],
 "metadata": {
  "kernelspec": {
   "display_name": "Python 3",
   "language": "python",
   "name": "python3"
  },
  "language_info": {
   "codemirror_mode": {
    "name": "ipython",
    "version": 3
   },
   "file_extension": ".py",
   "mimetype": "text/x-python",
   "name": "python",
   "nbconvert_exporter": "python",
   "pygments_lexer": "ipython3",
   "version": "3.8.5"
  }
 },
 "nbformat": 4,
 "nbformat_minor": 4
}
