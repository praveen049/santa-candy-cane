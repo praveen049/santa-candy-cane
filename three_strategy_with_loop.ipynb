{
 "cells": [
  {
   "cell_type": "code",
   "execution_count": 23,
   "metadata": {},
   "outputs": [
    {
     "name": "stdout",
     "output_type": "stream",
     "text": [
      "Overwriting ./py-files/three_strategy_with_loop.py\n"
     ]
    }
   ],
   "source": [
    "%%writefile \"./py-files/three_strategy_with_loop.py\"\n",
    "import json\n",
    "import numpy as np\n",
    "import pandas as pd\n",
    "\n",
    "bandit_state = [[1,1] for i in range(100)] \n",
    "total_reward = 0\n",
    "last_step_bandit = 0\n",
    "opponent_last = None\n",
    "loop_current_step = 0\n",
    "    \n",
    "def bayesian_ts_bandit(observation, configuration):\n",
    "    global bandit_state,total_reward, last_step_bandit, opponent_last, loop_current_step\n",
    "    best_agent = None\n",
    "    my_index = observation.agentIndex\n",
    "    if my_index == 0:\n",
    "        oppo_index = 1\n",
    "    else:\n",
    "        oppo_index = 0\n",
    "    \n",
    "    if observation.step%100 == 0:\n",
    "        #print(f\"Observations {observation}\")\n",
    "        print(f\"3 step strategy with loop {total_reward}\")\n",
    "        \n",
    "    if loop_current_step == 0:\n",
    "        # initial bandit state\n",
    "        bandit_state = [[1,1] for i in range(100)]\n",
    "        \n",
    "    if loop_current_step < 100:\n",
    "        reward = observation.reward - total_reward\n",
    "        total_reward += reward   \n",
    "        \n",
    "        # updating bandit_state using the result of the previous step       \n",
    "        if reward > 0:\n",
    "            # If winner increase the wins for that particular bandit\n",
    "            bandit_state[last_step_bandit][0] += reward \n",
    "            best_agent = last_step_bandit\n",
    "        else: \n",
    "            best_agent = loop_current_step\n",
    "            # Increase the trials - wins for that particular bandit\n",
    "            bandit_state[last_step_bandit][1] += 1 - reward\n",
    "\n",
    "        if len(observation.lastActions) > 0:\n",
    "            opponent_current = observation.lastActions[oppo_index]\n",
    "            if opponent_last:\n",
    "                if opponent_last == opponent_current:\n",
    "                    bandit_state[opponent_current][0] += 1\n",
    "            opponent_last = opponent_current  \n",
    "    else:\n",
    "        reward = observation.reward - total_reward\n",
    "        total_reward += reward   \n",
    "        \n",
    "        # updating bandit_state using the result of the previous step       \n",
    "        if reward > 0:\n",
    "            # If winner increase the wins for that particular bandit\n",
    "            bandit_state[last_step_bandit][0] += reward \n",
    "            best_agent = last_step_bandit\n",
    "        else: \n",
    "            # Increase the trials - wins for that particular bandit\n",
    "            bandit_state[last_step_bandit][1] += 1 - reward\n",
    "        \n",
    "        opponent_current = observation.lastActions[oppo_index]\n",
    "        if opponent_last:\n",
    "            if opponent_last == opponent_current:\n",
    "                bandit_state[opponent_current][0] += 1\n",
    "        opponent_last = opponent_current  \n",
    "\n",
    "        best_proba = -1\n",
    "        for k in range(100):\n",
    "            proba = np.random.beta(bandit_state[k][0],bandit_state[k][1])\n",
    "            if proba > best_proba:\n",
    "                best_proba = proba\n",
    "                best_agent = k\n",
    "\n",
    "    last_step_bandit = best_agent\n",
    "    loop_current_step += 1\n",
    "    return best_agent"
   ]
  },
  {
   "cell_type": "code",
   "execution_count": null,
   "metadata": {},
   "outputs": [],
   "source": []
  }
 ],
 "metadata": {
  "kernelspec": {
   "display_name": "Python 3",
   "language": "python",
   "name": "python3"
  },
  "language_info": {
   "codemirror_mode": {
    "name": "ipython",
    "version": 3
   },
   "file_extension": ".py",
   "mimetype": "text/x-python",
   "name": "python",
   "nbconvert_exporter": "python",
   "pygments_lexer": "ipython3",
   "version": "3.8.5"
  }
 },
 "nbformat": 4,
 "nbformat_minor": 4
}
