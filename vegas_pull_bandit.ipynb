{
 "cells": [
  {
   "cell_type": "code",
   "execution_count": 4,
   "metadata": {},
   "outputs": [
    {
     "name": "stdout",
     "output_type": "stream",
     "text": [
      "Overwriting vega_pull_bandit.py\n"
     ]
    }
   ],
   "source": [
    "%%writefile vega_pull_bandit.py\n",
    "import math\n",
    "\n",
    "last_bandit = -1\n",
    "total_reward = 0\n",
    "\n",
    "sums_of_reward = None\n",
    "numbers_of_selections = None\n",
    "\n",
    "def ucb_agent(observation, configuration):    \n",
    "    global sums_of_reward, numbers_of_selections, last_bandit, total_reward\n",
    "\n",
    "    if observation.step%100 == 0:\n",
    "        if sums_of_reward:\n",
    "            print(f\"Vegas pull bandit {sum(sums_of_reward)}\")\n",
    "    \n",
    "    if observation.step == 0:\n",
    "        numbers_of_selections = [0] * configuration[\"banditCount\"]\n",
    "        sums_of_reward = [0] * configuration[\"banditCount\"]\n",
    "\n",
    "    if last_bandit > -1:\n",
    "        reward = observation.reward - total_reward\n",
    "        sums_of_reward[last_bandit] += reward\n",
    "        total_reward += reward\n",
    "\n",
    "    bandit = 0\n",
    "    max_upper_bound = 0\n",
    "    for i in range(0, configuration.banditCount):\n",
    "        if (numbers_of_selections[i] > 0):\n",
    "            average_reward = sums_of_reward[i] / numbers_of_selections[i]\n",
    "            delta_i = math.sqrt(2 * math.log(observation.step+1) / numbers_of_selections[i])\n",
    "            upper_bound = average_reward + delta_i\n",
    "        else:\n",
    "            upper_bound = 1e400\n",
    "        if upper_bound > max_upper_bound and last_bandit != i:\n",
    "            max_upper_bound = upper_bound\n",
    "            bandit = i\n",
    "            last_bandit = bandit\n",
    "\n",
    "    numbers_of_selections[bandit] += 1\n",
    "\n",
    "    if bandit is None:\n",
    "        bandit = 0\n",
    "\n",
    "    return bandit"
   ]
  },
  {
   "cell_type": "code",
   "execution_count": null,
   "metadata": {},
   "outputs": [],
   "source": []
  }
 ],
 "metadata": {
  "kernelspec": {
   "display_name": "Python 3",
   "language": "python",
   "name": "python3"
  },
  "language_info": {
   "codemirror_mode": {
    "name": "ipython",
    "version": 3
   },
   "file_extension": ".py",
   "mimetype": "text/x-python",
   "name": "python",
   "nbconvert_exporter": "python",
   "pygments_lexer": "ipython3",
   "version": "3.8.5"
  }
 },
 "nbformat": 4,
 "nbformat_minor": 4
}
